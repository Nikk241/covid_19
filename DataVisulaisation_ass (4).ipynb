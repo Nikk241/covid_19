{
 "cells": [
  {
   "cell_type": "code",
   "execution_count": 1,
   "id": "edf4648e-f144-4c6a-a3cf-61e5a5898f7f",
   "metadata": {},
   "outputs": [],
   "source": [
    "# Import required libraries\n",
    "import pandas as pd\n",
    "import os\n",
    "import matplotlib.pyplot as plt\n",
    "import seaborn as sns"
   ]
  },
  {
   "cell_type": "code",
   "execution_count": 7,
   "id": "627689b1-6bb3-451a-9e5c-1e967a5fe845",
   "metadata": {},
   "outputs": [],
   "source": [
    "# Function to clean the dataset\n",
    "def clean_data(df):\n",
    "    # Drop unnecessary columns\n",
    "    df.drop(columns=['FIPS', 'Admin2', 'Province_State'], inplace=True, errors='ignore')\n",
    "\n",
    "    # Drop rows with missing values in critical columns\n",
    "    df.dropna(subset=['Lat', 'Long_', 'Incident_Rate', 'Case_Fatality_Ratio'], inplace=True)\n",
    "\n",
    "    # Convert 'Last_Update' column to datetime format\n",
    "    df['Last_Update'] = pd.to_datetime(df['Last_Update'], errors='coerce')\n",
    "\n",
    "    # Rename columns for better understanding\n",
    "    df.rename(columns={'Country_Region': 'Country', 'Lat': 'Latitude', 'Long_': 'Longitude'}, inplace=True)\n",
    "\n",
    "    # Convert numeric columns to proper data types\n",
    "    numeric_columns = ['Confirmed', 'Deaths', 'Recovered', 'Active', 'Incident_Rate', 'Case_Fatality_Ratio']\n",
    "    df[numeric_columns] = df[numeric_columns].apply(pd.to_numeric, errors='coerce')\n",
    "\n",
    "    return df\n"
   ]
  },
  {
   "cell_type": "code",
   "execution_count": 8,
   "id": "b237fb2f-330b-4a84-b3ea-6f377a4b06a9",
   "metadata": {},
   "outputs": [],
   "source": [
    "# Define the input directory containing the raw CSV files\n",
    "input_directory = \"C:\\\\Users\\\\nik24\\\\Downloads\\\\COVID-19-master\\\\COVID-19-master\\\\csse_covid_19_data\\\\csse_covid_19_daily_reports\\\\\"\n",
    "\n",
    "# Define the output directory to save cleaned files\n",
    "output_directory = os.path.join(input_directory, 'cleaned')\n",
    "\n",
    "# Create the output folder if it doesn't exist\n",
    "if not os.path.exists(output_directory):\n",
    "    os.makedirs(output_directory)\n"
   ]
  },
  {
   "cell_type": "code",
   "execution_count": 9,
   "id": "bddca487-276c-4268-8b84-28ce3c6cb0ee",
   "metadata": {},
   "outputs": [
    {
     "name": "stdout",
     "output_type": "stream",
     "text": [
      "Found 1144 CSV files.\n",
      "Cleaned file saved: C:\\Users\\nik24\\Downloads\\COVID-19-master\\COVID-19-master\\csse_covid_19_data\\csse_covid_19_daily_reports\\cleaned\\cleaned_01-01-2021.csv\n",
      "Cleaned file saved: C:\\Users\\nik24\\Downloads\\COVID-19-master\\COVID-19-master\\csse_covid_19_data\\csse_covid_19_daily_reports\\cleaned\\cleaned_01-01-2022.csv\n",
      "Cleaned file saved: C:\\Users\\nik24\\Downloads\\COVID-19-master\\COVID-19-master\\csse_covid_19_data\\csse_covid_19_daily_reports\\cleaned\\cleaned_01-01-2023.csv\n",
      "Cleaned file saved: C:\\Users\\nik24\\Downloads\\COVID-19-master\\COVID-19-master\\csse_covid_19_data\\csse_covid_19_daily_reports\\cleaned\\cleaned_01-02-2021.csv\n",
      "Cleaned file saved: C:\\Users\\nik24\\Downloads\\COVID-19-master\\COVID-19-master\\csse_covid_19_data\\csse_covid_19_daily_reports\\cleaned\\cleaned_01-02-2022.csv\n",
      "Cleaned file saved: C:\\Users\\nik24\\Downloads\\COVID-19-master\\COVID-19-master\\csse_covid_19_data\\csse_covid_19_daily_reports\\cleaned\\cleaned_01-02-2023.csv\n",
      "Cleaned file saved: C:\\Users\\nik24\\Downloads\\COVID-19-master\\COVID-19-master\\csse_covid_19_data\\csse_covid_19_daily_reports\\cleaned\\cleaned_01-03-2021.csv\n",
      "Cleaned file saved: C:\\Users\\nik24\\Downloads\\COVID-19-master\\COVID-19-master\\csse_covid_19_data\\csse_covid_19_daily_reports\\cleaned\\cleaned_01-03-2022.csv\n",
      "Cleaned file saved: C:\\Users\\nik24\\Downloads\\COVID-19-master\\COVID-19-master\\csse_covid_19_data\\csse_covid_19_daily_reports\\cleaned\\cleaned_01-03-2023.csv\n",
      "Cleaned file saved: C:\\Users\\nik24\\Downloads\\COVID-19-master\\COVID-19-master\\csse_covid_19_data\\csse_covid_19_daily_reports\\cleaned\\cleaned_01-04-2021.csv\n",
      "Cleaned file saved: C:\\Users\\nik24\\Downloads\\COVID-19-master\\COVID-19-master\\csse_covid_19_data\\csse_covid_19_daily_reports\\cleaned\\cleaned_01-04-2022.csv\n",
      "Cleaned file saved: C:\\Users\\nik24\\Downloads\\COVID-19-master\\COVID-19-master\\csse_covid_19_data\\csse_covid_19_daily_reports\\cleaned\\cleaned_01-04-2023.csv\n",
      "Cleaned file saved: C:\\Users\\nik24\\Downloads\\COVID-19-master\\COVID-19-master\\csse_covid_19_data\\csse_covid_19_daily_reports\\cleaned\\cleaned_01-05-2021.csv\n",
      "Cleaned file saved: C:\\Users\\nik24\\Downloads\\COVID-19-master\\COVID-19-master\\csse_covid_19_data\\csse_covid_19_daily_reports\\cleaned\\cleaned_01-05-2022.csv\n",
      "Cleaned file saved: C:\\Users\\nik24\\Downloads\\COVID-19-master\\COVID-19-master\\csse_covid_19_data\\csse_covid_19_daily_reports\\cleaned\\cleaned_01-05-2023.csv\n",
      "Cleaned file saved: C:\\Users\\nik24\\Downloads\\COVID-19-master\\COVID-19-master\\csse_covid_19_data\\csse_covid_19_daily_reports\\cleaned\\cleaned_01-06-2021.csv\n",
      "Cleaned file saved: C:\\Users\\nik24\\Downloads\\COVID-19-master\\COVID-19-master\\csse_covid_19_data\\csse_covid_19_daily_reports\\cleaned\\cleaned_01-06-2022.csv\n",
      "Cleaned file saved: C:\\Users\\nik24\\Downloads\\COVID-19-master\\COVID-19-master\\csse_covid_19_data\\csse_covid_19_daily_reports\\cleaned\\cleaned_01-06-2023.csv\n",
      "Cleaned file saved: C:\\Users\\nik24\\Downloads\\COVID-19-master\\COVID-19-master\\csse_covid_19_data\\csse_covid_19_daily_reports\\cleaned\\cleaned_01-07-2021.csv\n",
      "Cleaned file saved: C:\\Users\\nik24\\Downloads\\COVID-19-master\\COVID-19-master\\csse_covid_19_data\\csse_covid_19_daily_reports\\cleaned\\cleaned_01-07-2022.csv\n",
      "Cleaned file saved: C:\\Users\\nik24\\Downloads\\COVID-19-master\\COVID-19-master\\csse_covid_19_data\\csse_covid_19_daily_reports\\cleaned\\cleaned_01-07-2023.csv\n",
      "Cleaned file saved: C:\\Users\\nik24\\Downloads\\COVID-19-master\\COVID-19-master\\csse_covid_19_data\\csse_covid_19_daily_reports\\cleaned\\cleaned_01-08-2021.csv\n",
      "Cleaned file saved: C:\\Users\\nik24\\Downloads\\COVID-19-master\\COVID-19-master\\csse_covid_19_data\\csse_covid_19_daily_reports\\cleaned\\cleaned_01-08-2022.csv\n",
      "Cleaned file saved: C:\\Users\\nik24\\Downloads\\COVID-19-master\\COVID-19-master\\csse_covid_19_data\\csse_covid_19_daily_reports\\cleaned\\cleaned_01-08-2023.csv\n",
      "Cleaned file saved: C:\\Users\\nik24\\Downloads\\COVID-19-master\\COVID-19-master\\csse_covid_19_data\\csse_covid_19_daily_reports\\cleaned\\cleaned_01-09-2021.csv\n",
      "Cleaned file saved: C:\\Users\\nik24\\Downloads\\COVID-19-master\\COVID-19-master\\csse_covid_19_data\\csse_covid_19_daily_reports\\cleaned\\cleaned_01-09-2022.csv\n",
      "Cleaned file saved: C:\\Users\\nik24\\Downloads\\COVID-19-master\\COVID-19-master\\csse_covid_19_data\\csse_covid_19_daily_reports\\cleaned\\cleaned_01-09-2023.csv\n",
      "Cleaned file saved: C:\\Users\\nik24\\Downloads\\COVID-19-master\\COVID-19-master\\csse_covid_19_data\\csse_covid_19_daily_reports\\cleaned\\cleaned_01-10-2021.csv\n",
      "Cleaned file saved: C:\\Users\\nik24\\Downloads\\COVID-19-master\\COVID-19-master\\csse_covid_19_data\\csse_covid_19_daily_reports\\cleaned\\cleaned_01-10-2022.csv\n",
      "Cleaned file saved: C:\\Users\\nik24\\Downloads\\COVID-19-master\\COVID-19-master\\csse_covid_19_data\\csse_covid_19_daily_reports\\cleaned\\cleaned_01-10-2023.csv\n",
      "Cleaned file saved: C:\\Users\\nik24\\Downloads\\COVID-19-master\\COVID-19-master\\csse_covid_19_data\\csse_covid_19_daily_reports\\cleaned\\cleaned_01-11-2021.csv\n",
      "Cleaned file saved: C:\\Users\\nik24\\Downloads\\COVID-19-master\\COVID-19-master\\csse_covid_19_data\\csse_covid_19_daily_reports\\cleaned\\cleaned_01-11-2022.csv\n",
      "Cleaned file saved: C:\\Users\\nik24\\Downloads\\COVID-19-master\\COVID-19-master\\csse_covid_19_data\\csse_covid_19_daily_reports\\cleaned\\cleaned_01-11-2023.csv\n",
      "Cleaned file saved: C:\\Users\\nik24\\Downloads\\COVID-19-master\\COVID-19-master\\csse_covid_19_data\\csse_covid_19_daily_reports\\cleaned\\cleaned_01-12-2021.csv\n",
      "Cleaned file saved: C:\\Users\\nik24\\Downloads\\COVID-19-master\\COVID-19-master\\csse_covid_19_data\\csse_covid_19_daily_reports\\cleaned\\cleaned_01-12-2022.csv\n",
      "Cleaned file saved: C:\\Users\\nik24\\Downloads\\COVID-19-master\\COVID-19-master\\csse_covid_19_data\\csse_covid_19_daily_reports\\cleaned\\cleaned_01-12-2023.csv\n",
      "Cleaned file saved: C:\\Users\\nik24\\Downloads\\COVID-19-master\\COVID-19-master\\csse_covid_19_data\\csse_covid_19_daily_reports\\cleaned\\cleaned_01-13-2021.csv\n",
      "Cleaned file saved: C:\\Users\\nik24\\Downloads\\COVID-19-master\\COVID-19-master\\csse_covid_19_data\\csse_covid_19_daily_reports\\cleaned\\cleaned_01-13-2022.csv\n",
      "Cleaned file saved: C:\\Users\\nik24\\Downloads\\COVID-19-master\\COVID-19-master\\csse_covid_19_data\\csse_covid_19_daily_reports\\cleaned\\cleaned_01-13-2023.csv\n",
      "Cleaned file saved: C:\\Users\\nik24\\Downloads\\COVID-19-master\\COVID-19-master\\csse_covid_19_data\\csse_covid_19_daily_reports\\cleaned\\cleaned_01-14-2021.csv\n",
      "Cleaned file saved: C:\\Users\\nik24\\Downloads\\COVID-19-master\\COVID-19-master\\csse_covid_19_data\\csse_covid_19_daily_reports\\cleaned\\cleaned_01-14-2022.csv\n",
      "Cleaned file saved: C:\\Users\\nik24\\Downloads\\COVID-19-master\\COVID-19-master\\csse_covid_19_data\\csse_covid_19_daily_reports\\cleaned\\cleaned_01-14-2023.csv\n",
      "Cleaned file saved: C:\\Users\\nik24\\Downloads\\COVID-19-master\\COVID-19-master\\csse_covid_19_data\\csse_covid_19_daily_reports\\cleaned\\cleaned_01-15-2021.csv\n",
      "Cleaned file saved: C:\\Users\\nik24\\Downloads\\COVID-19-master\\COVID-19-master\\csse_covid_19_data\\csse_covid_19_daily_reports\\cleaned\\cleaned_01-15-2022.csv\n",
      "Cleaned file saved: C:\\Users\\nik24\\Downloads\\COVID-19-master\\COVID-19-master\\csse_covid_19_data\\csse_covid_19_daily_reports\\cleaned\\cleaned_01-15-2023.csv\n",
      "Cleaned file saved: C:\\Users\\nik24\\Downloads\\COVID-19-master\\COVID-19-master\\csse_covid_19_data\\csse_covid_19_daily_reports\\cleaned\\cleaned_01-16-2021.csv\n",
      "Cleaned file saved: C:\\Users\\nik24\\Downloads\\COVID-19-master\\COVID-19-master\\csse_covid_19_data\\csse_covid_19_daily_reports\\cleaned\\cleaned_01-16-2022.csv\n",
      "Cleaned file saved: C:\\Users\\nik24\\Downloads\\COVID-19-master\\COVID-19-master\\csse_covid_19_data\\csse_covid_19_daily_reports\\cleaned\\cleaned_01-16-2023.csv\n",
      "Cleaned file saved: C:\\Users\\nik24\\Downloads\\COVID-19-master\\COVID-19-master\\csse_covid_19_data\\csse_covid_19_daily_reports\\cleaned\\cleaned_01-17-2021.csv\n",
      "Cleaned file saved: C:\\Users\\nik24\\Downloads\\COVID-19-master\\COVID-19-master\\csse_covid_19_data\\csse_covid_19_daily_reports\\cleaned\\cleaned_01-17-2022.csv\n",
      "Cleaned file saved: C:\\Users\\nik24\\Downloads\\COVID-19-master\\COVID-19-master\\csse_covid_19_data\\csse_covid_19_daily_reports\\cleaned\\cleaned_01-17-2023.csv\n",
      "Cleaned file saved: C:\\Users\\nik24\\Downloads\\COVID-19-master\\COVID-19-master\\csse_covid_19_data\\csse_covid_19_daily_reports\\cleaned\\cleaned_01-18-2021.csv\n",
      "Cleaned file saved: C:\\Users\\nik24\\Downloads\\COVID-19-master\\COVID-19-master\\csse_covid_19_data\\csse_covid_19_daily_reports\\cleaned\\cleaned_01-18-2022.csv\n",
      "Cleaned file saved: C:\\Users\\nik24\\Downloads\\COVID-19-master\\COVID-19-master\\csse_covid_19_data\\csse_covid_19_daily_reports\\cleaned\\cleaned_01-18-2023.csv\n",
      "Cleaned file saved: C:\\Users\\nik24\\Downloads\\COVID-19-master\\COVID-19-master\\csse_covid_19_data\\csse_covid_19_daily_reports\\cleaned\\cleaned_01-19-2021.csv\n",
      "Cleaned file saved: C:\\Users\\nik24\\Downloads\\COVID-19-master\\COVID-19-master\\csse_covid_19_data\\csse_covid_19_daily_reports\\cleaned\\cleaned_01-19-2022.csv\n",
      "Cleaned file saved: C:\\Users\\nik24\\Downloads\\COVID-19-master\\COVID-19-master\\csse_covid_19_data\\csse_covid_19_daily_reports\\cleaned\\cleaned_01-19-2023.csv\n",
      "Cleaned file saved: C:\\Users\\nik24\\Downloads\\COVID-19-master\\COVID-19-master\\csse_covid_19_data\\csse_covid_19_daily_reports\\cleaned\\cleaned_01-20-2021.csv\n",
      "Cleaned file saved: C:\\Users\\nik24\\Downloads\\COVID-19-master\\COVID-19-master\\csse_covid_19_data\\csse_covid_19_daily_reports\\cleaned\\cleaned_01-20-2022.csv\n",
      "Cleaned file saved: C:\\Users\\nik24\\Downloads\\COVID-19-master\\COVID-19-master\\csse_covid_19_data\\csse_covid_19_daily_reports\\cleaned\\cleaned_01-20-2023.csv\n",
      "Cleaned file saved: C:\\Users\\nik24\\Downloads\\COVID-19-master\\COVID-19-master\\csse_covid_19_data\\csse_covid_19_daily_reports\\cleaned\\cleaned_01-21-2021.csv\n",
      "Cleaned file saved: C:\\Users\\nik24\\Downloads\\COVID-19-master\\COVID-19-master\\csse_covid_19_data\\csse_covid_19_daily_reports\\cleaned\\cleaned_01-21-2022.csv\n",
      "Cleaned file saved: C:\\Users\\nik24\\Downloads\\COVID-19-master\\COVID-19-master\\csse_covid_19_data\\csse_covid_19_daily_reports\\cleaned\\cleaned_01-21-2023.csv\n"
     ]
    },
    {
     "ename": "KeyError",
     "evalue": "['Lat', 'Long_', 'Incident_Rate', 'Case_Fatality_Ratio']",
     "output_type": "error",
     "traceback": [
      "\u001b[1;31m---------------------------------------------------------------------------\u001b[0m",
      "\u001b[1;31mKeyError\u001b[0m                                  Traceback (most recent call last)",
      "\u001b[1;32m~\\AppData\\Local\\Temp\\ipykernel_7148\\3825384762.py\u001b[0m in \u001b[0;36m?\u001b[1;34m()\u001b[0m\n\u001b[0;32m     10\u001b[0m \u001b[1;31m# Loop through each file\u001b[0m\u001b[1;33m\u001b[0m\u001b[1;33m\u001b[0m\u001b[0m\n\u001b[0;32m     11\u001b[0m \u001b[1;32mfor\u001b[0m \u001b[0mfile\u001b[0m \u001b[1;32min\u001b[0m \u001b[0mcsv_files\u001b[0m\u001b[1;33m:\u001b[0m\u001b[1;33m\u001b[0m\u001b[1;33m\u001b[0m\u001b[0m\n\u001b[0;32m     12\u001b[0m     \u001b[0mfile_path\u001b[0m \u001b[1;33m=\u001b[0m \u001b[0mos\u001b[0m\u001b[1;33m.\u001b[0m\u001b[0mpath\u001b[0m\u001b[1;33m.\u001b[0m\u001b[0mjoin\u001b[0m\u001b[1;33m(\u001b[0m\u001b[0minput_directory\u001b[0m\u001b[1;33m,\u001b[0m \u001b[0mfile\u001b[0m\u001b[1;33m)\u001b[0m  \u001b[1;31m# Full file path\u001b[0m\u001b[1;33m\u001b[0m\u001b[1;33m\u001b[0m\u001b[0m\n\u001b[0;32m     13\u001b[0m     \u001b[0mdf\u001b[0m \u001b[1;33m=\u001b[0m \u001b[0mpd\u001b[0m\u001b[1;33m.\u001b[0m\u001b[0mread_csv\u001b[0m\u001b[1;33m(\u001b[0m\u001b[0mfile_path\u001b[0m\u001b[1;33m)\u001b[0m                     \u001b[1;31m# Load the data\u001b[0m\u001b[1;33m\u001b[0m\u001b[1;33m\u001b[0m\u001b[0m\n\u001b[1;32m---> 14\u001b[1;33m     \u001b[0mcleaned_df\u001b[0m \u001b[1;33m=\u001b[0m \u001b[0mclean_data\u001b[0m\u001b[1;33m(\u001b[0m\u001b[0mdf\u001b[0m\u001b[1;33m)\u001b[0m                     \u001b[1;31m# Clean the data\u001b[0m\u001b[1;33m\u001b[0m\u001b[1;33m\u001b[0m\u001b[0m\n\u001b[0m\u001b[0;32m     15\u001b[0m     \u001b[0mcleaned_dataframes\u001b[0m\u001b[1;33m.\u001b[0m\u001b[0mappend\u001b[0m\u001b[1;33m(\u001b[0m\u001b[0mcleaned_df\u001b[0m\u001b[1;33m)\u001b[0m           \u001b[1;31m# Add to list\u001b[0m\u001b[1;33m\u001b[0m\u001b[1;33m\u001b[0m\u001b[0m\n\u001b[0;32m     16\u001b[0m \u001b[1;33m\u001b[0m\u001b[0m\n\u001b[0;32m     17\u001b[0m     \u001b[1;31m# Save cleaned data to the output directory\u001b[0m\u001b[1;33m\u001b[0m\u001b[1;33m\u001b[0m\u001b[0m\n",
      "\u001b[1;32m~\\AppData\\Local\\Temp\\ipykernel_7148\\4117490315.py\u001b[0m in \u001b[0;36m?\u001b[1;34m(df)\u001b[0m\n\u001b[0;32m      3\u001b[0m     \u001b[1;31m# Drop unnecessary columns\u001b[0m\u001b[1;33m\u001b[0m\u001b[1;33m\u001b[0m\u001b[0m\n\u001b[0;32m      4\u001b[0m     \u001b[0mdf\u001b[0m\u001b[1;33m.\u001b[0m\u001b[0mdrop\u001b[0m\u001b[1;33m(\u001b[0m\u001b[0mcolumns\u001b[0m\u001b[1;33m=\u001b[0m\u001b[1;33m[\u001b[0m\u001b[1;34m'FIPS'\u001b[0m\u001b[1;33m,\u001b[0m \u001b[1;34m'Admin2'\u001b[0m\u001b[1;33m,\u001b[0m \u001b[1;34m'Province_State'\u001b[0m\u001b[1;33m]\u001b[0m\u001b[1;33m,\u001b[0m \u001b[0minplace\u001b[0m\u001b[1;33m=\u001b[0m\u001b[1;32mTrue\u001b[0m\u001b[1;33m,\u001b[0m \u001b[0merrors\u001b[0m\u001b[1;33m=\u001b[0m\u001b[1;34m'ignore'\u001b[0m\u001b[1;33m)\u001b[0m\u001b[1;33m\u001b[0m\u001b[1;33m\u001b[0m\u001b[0m\n\u001b[0;32m      5\u001b[0m \u001b[1;33m\u001b[0m\u001b[0m\n\u001b[0;32m      6\u001b[0m     \u001b[1;31m# Drop rows with missing values in critical columns\u001b[0m\u001b[1;33m\u001b[0m\u001b[1;33m\u001b[0m\u001b[0m\n\u001b[1;32m----> 7\u001b[1;33m     \u001b[0mdf\u001b[0m\u001b[1;33m.\u001b[0m\u001b[0mdropna\u001b[0m\u001b[1;33m(\u001b[0m\u001b[0msubset\u001b[0m\u001b[1;33m=\u001b[0m\u001b[1;33m[\u001b[0m\u001b[1;34m'Lat'\u001b[0m\u001b[1;33m,\u001b[0m \u001b[1;34m'Long_'\u001b[0m\u001b[1;33m,\u001b[0m \u001b[1;34m'Incident_Rate'\u001b[0m\u001b[1;33m,\u001b[0m \u001b[1;34m'Case_Fatality_Ratio'\u001b[0m\u001b[1;33m]\u001b[0m\u001b[1;33m,\u001b[0m \u001b[0minplace\u001b[0m\u001b[1;33m=\u001b[0m\u001b[1;32mTrue\u001b[0m\u001b[1;33m)\u001b[0m\u001b[1;33m\u001b[0m\u001b[1;33m\u001b[0m\u001b[0m\n\u001b[0m\u001b[0;32m      8\u001b[0m \u001b[1;33m\u001b[0m\u001b[0m\n\u001b[0;32m      9\u001b[0m     \u001b[1;31m# Convert 'Last_Update' column to datetime format\u001b[0m\u001b[1;33m\u001b[0m\u001b[1;33m\u001b[0m\u001b[0m\n\u001b[0;32m     10\u001b[0m     \u001b[0mdf\u001b[0m\u001b[1;33m[\u001b[0m\u001b[1;34m'Last_Update'\u001b[0m\u001b[1;33m]\u001b[0m \u001b[1;33m=\u001b[0m \u001b[0mpd\u001b[0m\u001b[1;33m.\u001b[0m\u001b[0mto_datetime\u001b[0m\u001b[1;33m(\u001b[0m\u001b[0mdf\u001b[0m\u001b[1;33m[\u001b[0m\u001b[1;34m'Last_Update'\u001b[0m\u001b[1;33m]\u001b[0m\u001b[1;33m,\u001b[0m \u001b[0merrors\u001b[0m\u001b[1;33m=\u001b[0m\u001b[1;34m'coerce'\u001b[0m\u001b[1;33m)\u001b[0m\u001b[1;33m\u001b[0m\u001b[1;33m\u001b[0m\u001b[0m\n",
      "\u001b[1;32m~\\AppData\\Local\\Programs\\Python\\Python313\\Lib\\site-packages\\pandas\\core\\frame.py\u001b[0m in \u001b[0;36m?\u001b[1;34m(self, axis, how, thresh, subset, inplace, ignore_index)\u001b[0m\n\u001b[0;32m   6666\u001b[0m             \u001b[0max\u001b[0m \u001b[1;33m=\u001b[0m \u001b[0mself\u001b[0m\u001b[1;33m.\u001b[0m\u001b[0m_get_axis\u001b[0m\u001b[1;33m(\u001b[0m\u001b[0magg_axis\u001b[0m\u001b[1;33m)\u001b[0m\u001b[1;33m\u001b[0m\u001b[1;33m\u001b[0m\u001b[0m\n\u001b[0;32m   6667\u001b[0m             \u001b[0mindices\u001b[0m \u001b[1;33m=\u001b[0m \u001b[0max\u001b[0m\u001b[1;33m.\u001b[0m\u001b[0mget_indexer_for\u001b[0m\u001b[1;33m(\u001b[0m\u001b[0msubset\u001b[0m\u001b[1;33m)\u001b[0m\u001b[1;33m\u001b[0m\u001b[1;33m\u001b[0m\u001b[0m\n\u001b[0;32m   6668\u001b[0m             \u001b[0mcheck\u001b[0m \u001b[1;33m=\u001b[0m \u001b[0mindices\u001b[0m \u001b[1;33m==\u001b[0m \u001b[1;33m-\u001b[0m\u001b[1;36m1\u001b[0m\u001b[1;33m\u001b[0m\u001b[1;33m\u001b[0m\u001b[0m\n\u001b[0;32m   6669\u001b[0m             \u001b[1;32mif\u001b[0m \u001b[0mcheck\u001b[0m\u001b[1;33m.\u001b[0m\u001b[0many\u001b[0m\u001b[1;33m(\u001b[0m\u001b[1;33m)\u001b[0m\u001b[1;33m:\u001b[0m\u001b[1;33m\u001b[0m\u001b[1;33m\u001b[0m\u001b[0m\n\u001b[1;32m-> 6670\u001b[1;33m                 \u001b[1;32mraise\u001b[0m \u001b[0mKeyError\u001b[0m\u001b[1;33m(\u001b[0m\u001b[0mnp\u001b[0m\u001b[1;33m.\u001b[0m\u001b[0marray\u001b[0m\u001b[1;33m(\u001b[0m\u001b[0msubset\u001b[0m\u001b[1;33m)\u001b[0m\u001b[1;33m[\u001b[0m\u001b[0mcheck\u001b[0m\u001b[1;33m]\u001b[0m\u001b[1;33m.\u001b[0m\u001b[0mtolist\u001b[0m\u001b[1;33m(\u001b[0m\u001b[1;33m)\u001b[0m\u001b[1;33m)\u001b[0m\u001b[1;33m\u001b[0m\u001b[1;33m\u001b[0m\u001b[0m\n\u001b[0m\u001b[0;32m   6671\u001b[0m             \u001b[0magg_obj\u001b[0m \u001b[1;33m=\u001b[0m \u001b[0mself\u001b[0m\u001b[1;33m.\u001b[0m\u001b[0mtake\u001b[0m\u001b[1;33m(\u001b[0m\u001b[0mindices\u001b[0m\u001b[1;33m,\u001b[0m \u001b[0maxis\u001b[0m\u001b[1;33m=\u001b[0m\u001b[0magg_axis\u001b[0m\u001b[1;33m)\u001b[0m\u001b[1;33m\u001b[0m\u001b[1;33m\u001b[0m\u001b[0m\n\u001b[0;32m   6672\u001b[0m \u001b[1;33m\u001b[0m\u001b[0m\n\u001b[0;32m   6673\u001b[0m         \u001b[1;32mif\u001b[0m \u001b[0mthresh\u001b[0m \u001b[1;32mis\u001b[0m \u001b[1;32mnot\u001b[0m \u001b[0mlib\u001b[0m\u001b[1;33m.\u001b[0m\u001b[0mno_default\u001b[0m\u001b[1;33m:\u001b[0m\u001b[1;33m\u001b[0m\u001b[1;33m\u001b[0m\u001b[0m\n",
      "\u001b[1;31mKeyError\u001b[0m: ['Lat', 'Long_', 'Incident_Rate', 'Case_Fatality_Ratio']"
     ]
    }
   ],
   "source": [
    "# Get a list of all CSV files in the input directory\n",
    "csv_files = [file for file in os.listdir(input_directory) if file.endswith('.csv')]\n",
    "\n",
    "# Print the number of files found\n",
    "print(f\"Found {len(csv_files)} CSV files.\")\n",
    "\n",
    "# List to store cleaned DataFrames\n",
    "cleaned_dataframes = []\n",
    "\n",
    "# Loop through each file\n",
    "for file in csv_files:\n",
    "    file_path = os.path.join(input_directory, file)  # Full file path\n",
    "    df = pd.read_csv(file_path)                     # Load the data\n",
    "    cleaned_df = clean_data(df)                     # Clean the data\n",
    "    cleaned_dataframes.append(cleaned_df)           # Add to list\n",
    "\n",
    "    # Save cleaned data to the output directory\n",
    "    output_path = os.path.join(output_directory, f\"cleaned_{file}\")\n",
    "    cleaned_df.to_csv(output_path, index=False)\n",
    "    print(f\"Cleaned file saved: {output_path}\")\n"
   ]
  },
  {
   "cell_type": "code",
   "execution_count": 10,
   "id": "e5b23b6e-ad84-4417-91e8-c9cc0d070606",
   "metadata": {},
   "outputs": [
    {
     "name": "stdout",
     "output_type": "stream",
     "text": [
      "All cleaned data combined and saved: C:\\Users\\nik24\\Downloads\\COVID-19-master\\COVID-19-master\\csse_covid_19_data\\csse_covid_19_daily_reports\\cleaned\\combined_cleaned_data.csv\n"
     ]
    }
   ],
   "source": [
    "# Combine all cleaned DataFrames\n",
    "all_cleaned_data = pd.concat(cleaned_dataframes, ignore_index=True)\n",
    "\n",
    "# Save the combined DataFrame to a new CSV file\n",
    "combined_output_path = os.path.join(output_directory, \"combined_cleaned_data.csv\")\n",
    "all_cleaned_data.to_csv(combined_output_path, index=False)\n",
    "print(f\"All cleaned data combined and saved: {combined_output_path}\")\n"
   ]
  },
  {
   "cell_type": "code",
   "execution_count": 11,
   "id": "23cbac47-4843-4195-bf78-8c9aaa4ee93a",
   "metadata": {},
   "outputs": [],
   "source": [
    "# Group data by country and calculate totals\n",
    "country_aggregated_data = all_cleaned_data.groupby('Country', as_index=False).agg({\n",
    "    'Confirmed': 'sum',\n",
    "    'Deaths': 'sum',\n",
    "    'Recovered': 'sum',\n",
    "    'Active': 'sum'\n",
    "})\n",
    "\n",
    "# Calculate death rate\n",
    "country_aggregated_data['Death_Rate'] = (country_aggregated_data['Deaths'] / country_aggregated_data['Confirmed']) * 100\n",
    "\n",
    "# Replace NaN and infinite values\n",
    "country_aggregated_data['Death_Rate'] = country_aggregated_data['Death_Rate'].replace([float('inf'), -float('inf')], 0)\n",
    "country_aggregated_data['Death_Rate'] = country_aggregated_data['Death_Rate'].fillna(0)\n"
   ]
  },
  {
   "cell_type": "code",
   "execution_count": null,
   "id": "0899e4cb-1bb0-45d5-a0d1-7a72e24816a9",
   "metadata": {},
   "outputs": [],
   "source": []
  }
 ],
 "metadata": {
  "kernelspec": {
   "display_name": "Python 3 (ipykernel)",
   "language": "python",
   "name": "python3"
  },
  "language_info": {
   "codemirror_mode": {
    "name": "ipython",
    "version": 3
   },
   "file_extension": ".py",
   "mimetype": "text/x-python",
   "name": "python",
   "nbconvert_exporter": "python",
   "pygments_lexer": "ipython3",
   "version": "3.13.0"
  }
 },
 "nbformat": 4,
 "nbformat_minor": 5
}
